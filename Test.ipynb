{
 "cells": [
  {
   "cell_type": "code",
   "execution_count": 1,
   "id": "bdae6e7b",
   "metadata": {},
   "outputs": [],
   "source": [
    "import Backtesting as bt\n",
    "import pandas as pd\n",
    "import yfinance as yf"
   ]
  },
  {
   "cell_type": "code",
   "execution_count": 2,
   "id": "047ecda9",
   "metadata": {},
   "outputs": [],
   "source": [
    "# We use the stocks in the S&P 500, the backtesting will use data from 1-1-2021"
   ]
  },
  {
   "cell_type": "code",
   "execution_count": 3,
   "id": "4e3919da",
   "metadata": {},
   "outputs": [],
   "source": [
    "def fetch_sp500_tickers():\n",
    "    url = \"https://en.wikipedia.org/wiki/List_of_S%26P_500_companies\"\n",
    "    # read table from the website\n",
    "    table = pd.read_html(url, attrs = {'id': 'constituents'})[0]\n",
    "    # get ticker symbols\n",
    "    tickers = table['Symbol'].tolist()\n",
    "    return tickers"
   ]
  },
  {
   "cell_type": "code",
   "execution_count": 4,
   "id": "98bf2f9c",
   "metadata": {},
   "outputs": [],
   "source": [
    "tickers = fetch_sp500_tickers()\n",
    "start_date = '2021-01-01'\n",
    "end_date = '2024-04-26'"
   ]
  },
  {
   "cell_type": "code",
   "execution_count": 5,
   "id": "74877939",
   "metadata": {},
   "outputs": [
    {
     "name": "stderr",
     "output_type": "stream",
     "text": [
      "[*********************100%%**********************]  503 of 503 completed\n",
      "\n",
      "2 Failed downloads:\n",
      "['BF.B']: Exception('%ticker%: No price data found, symbol may be delisted (1d 2021-01-01 -> 2024-04-27)')\n",
      "['BRK.B']: Exception('%ticker%: No timezone found, symbol may be delisted')\n"
     ]
    },
    {
     "name": "stdout",
     "output_type": "stream",
     "text": [
      "Data updated and saved locally.\n"
     ]
    },
    {
     "name": "stderr",
     "output_type": "stream",
     "text": [
      "\n",
      "2 Failed downloads:\n",
      "['BF.B']: Exception('%ticker%: No price data found, symbol may be delisted (1d 2021-01-01 -> 2024-04-26)')\n",
      "['BRK.B']: Exception('%ticker%: No timezone found, symbol may be delisted')\n",
      "\n",
      "1 Failed download:\n",
      "['BRK.B']: Exception('%ticker%: No timezone found, symbol may be delisted')\n",
      "\n",
      "1 Failed download:\n",
      "['BF.B']: Exception('%ticker%: No price data found, symbol may be delisted (1d 2021-01-01 -> 2024-04-26)')\n",
      "[*********************100%%**********************]  1 of 1 completed\n"
     ]
    },
    {
     "name": "stdout",
     "output_type": "stream",
     "text": [
      "Annualized Return: Total Value    0.171447\n",
      "dtype: object\n",
      "Sharpe Ratio: Total Value    0.712039\n",
      "dtype: float64\n",
      "Max Drawdown: Total Value   -0.187271\n",
      "dtype: object\n"
     ]
    },
    {
     "name": "stderr",
     "output_type": "stream",
     "text": [
      "\r",
      "[*********************100%%**********************]  1 of 1 completed"
     ]
    },
    {
     "name": "stdout",
     "output_type": "stream",
     "text": [
      "Success\n"
     ]
    },
    {
     "name": "stderr",
     "output_type": "stream",
     "text": [
      "\n"
     ]
    }
   ],
   "source": [
    "# get data\n",
    "dm = bt.DataManager()\n",
    "dm.update_data(tickers, start_date)\n",
    "\n",
    "# backtesting\n",
    "backtester = bt.Backtester(dm)\n",
    "portfolio_value, transactions = backtester.run_backtest(\n",
    "    tickers, start_date, end_date)\n",
    "\n",
    "# analyze data and performance\n",
    "analyzer = bt.PerformanceAnalyzer(portfolio_value)\n",
    "print(\"Annualized Return:\", analyzer.annualized_return())\n",
    "print(\"Sharpe Ratio:\", analyzer.sharpe_ratio())\n",
    "print(\"Max Drawdown:\", analyzer.max_drawdown())\n",
    "\n",
    "# save results    \n",
    "saver = bt.ResultSaver(transactions, portfolio_value)\n",
    "saver.save_to_csv()\n",
    "saver.plot_and_save_pdf()\n",
    "\n",
    "print('Success')"
   ]
  },
  {
   "cell_type": "code",
   "execution_count": null,
   "id": "86855cd5",
   "metadata": {},
   "outputs": [],
   "source": []
  }
 ],
 "metadata": {
  "kernelspec": {
   "display_name": "Python 3 (ipykernel)",
   "language": "python",
   "name": "python3"
  },
  "language_info": {
   "codemirror_mode": {
    "name": "ipython",
    "version": 3
   },
   "file_extension": ".py",
   "mimetype": "text/x-python",
   "name": "python",
   "nbconvert_exporter": "python",
   "pygments_lexer": "ipython3",
   "version": "3.9.13"
  },
  "varInspector": {
   "cols": {
    "lenName": 16,
    "lenType": 16,
    "lenVar": 40
   },
   "kernels_config": {
    "python": {
     "delete_cmd_postfix": "",
     "delete_cmd_prefix": "del ",
     "library": "var_list.py",
     "varRefreshCmd": "print(var_dic_list())"
    },
    "r": {
     "delete_cmd_postfix": ") ",
     "delete_cmd_prefix": "rm(",
     "library": "var_list.r",
     "varRefreshCmd": "cat(var_dic_list()) "
    }
   },
   "types_to_exclude": [
    "module",
    "function",
    "builtin_function_or_method",
    "instance",
    "_Feature"
   ],
   "window_display": false
  }
 },
 "nbformat": 4,
 "nbformat_minor": 5
}
