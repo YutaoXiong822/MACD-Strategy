{
 "cells": [
  {
   "cell_type": "code",
   "execution_count": 1,
   "id": "45907bd9",
   "metadata": {},
   "outputs": [],
   "source": [
    "import yfinance as yf\n",
    "import pandas as pd\n",
    "import numpy as np\n",
    "import os\n",
    "from datetime import datetime\n",
    "import matplotlib.pyplot as plt\n",
    "from matplotlib.backends.backend_pdf import PdfPages"
   ]
  },
  {
   "cell_type": "code",
   "execution_count": 2,
   "id": "8db307c7",
   "metadata": {},
   "outputs": [],
   "source": [
    "class DataManager:\n",
    "    def __init__(self, filename=\"stock_data.csv\", directory=\"results\"):\n",
    "        self.directory = directory\n",
    "        self.filename = filename\n",
    "        self.filepath = os.path.join(directory, filename)\n",
    "        # make sure that the directory exists\n",
    "        if not os.path.exists(directory):\n",
    "            os.makedirs(directory)\n",
    "\n",
    "    def update_data(self, tickers, start_date, end_date=None):\n",
    "        \"\"\"\n",
    "        get or update the data of the stocks, and save the data in a csv file.\n",
    "        \"\"\"\n",
    "        data = yf.download(tickers, start=start_date, end=end_date)\n",
    "        data = data['Adj Close']\n",
    "        if data == None:\n",
    "            print('cannot load data of tickers:', tickers)\n",
    "        data.to_csv(self.filepath)\n",
    "        \n",
    "        print(\"Data updated and saved locally.\")\n",
    "\n",
    "    def load_data(self, tickers, start_date, end_date=None):\n",
    "        data = pd.read_csv(self.filepath, index_col='Date', parse_dates=True)\n",
    "        return data[tickers][start_date:end_date]"
   ]
  },
  {
   "cell_type": "code",
   "execution_count": 3,
   "id": "3f2abe76",
   "metadata": {},
   "outputs": [
    {
     "name": "stderr",
     "output_type": "stream",
     "text": [
      "[*********************100%%**********************]  3 of 3 completed"
     ]
    },
    {
     "name": "stdout",
     "output_type": "stream",
     "text": [
      "Data updated and saved locally.\n",
      "                  AAPL         JPM\n",
      "Date                              \n",
      "2022-01-03  179.724564  150.404953\n",
      "2022-01-04  177.443558  156.106750\n",
      "2022-01-05  172.723587  153.252762\n",
      "2022-01-06  169.840256  154.880966\n",
      "2022-01-07  170.008118  156.415543\n",
      "...                ...         ...\n",
      "2023-03-27  157.439621  124.197647\n",
      "2023-03-28  156.812973  124.574623\n",
      "2023-03-29  159.916428  124.825920\n",
      "2023-03-30  161.497971  124.448967\n",
      "2023-03-31  164.024475  125.956848\n",
      "\n",
      "[313 rows x 2 columns]\n"
     ]
    },
    {
     "name": "stderr",
     "output_type": "stream",
     "text": [
      "\n"
     ]
    }
   ],
   "source": [
    "if __name__ == '__main__':\n",
    "    dm = DataManager()\n",
    "    # update or download the data\n",
    "    dm.update_data(tickers=[\"AAPL\", \"GOOGL\", \"JPM\"], start_date=\"2022-01-01\")\n",
    "    # load the data of the stocks that we need\n",
    "    df = dm.load_data(tickers=[\"AAPL\", 'JPM'],\n",
    "                      start_date=\"2022-01-01\",\n",
    "                      end_date=\"2023-04-01\")\n",
    "    print(df)"
   ]
  },
  {
   "cell_type": "code",
   "execution_count": 4,
   "id": "9b76756a",
   "metadata": {},
   "outputs": [],
   "source": [
    "import strategy\n",
    "\n",
    "\n",
    "class Backtester:\n",
    "    def __init__(self, data_manager):\n",
    "        self.data_manager = data_manager\n",
    "        self.portfolio = {}\n",
    "        self.cash = 1000000 # initial cash\n",
    "        self.initial_cash = self.cash\n",
    "        self.transaction_log = pd.DataFrame(\n",
    "            columns=['Date', 'Ticker', 'Action', 'Price', 'Quantity']) # DataFrame to record transactions\n",
    "        self.portfolio_value = pd.DataFrame(columns=['Total Value'])\n",
    "\n",
    "    def run_backtest(self,\n",
    "                     tickers,\n",
    "                     start_date,\n",
    "                     end_date,\n",
    "                     trading_strategy='default'):\n",
    "        # get stocks' price data from DataManager\n",
    "        price_data = self.data_manager.load_data(tickers, start_date, end_date)\n",
    "        # generate signals using MACD strategy\n",
    "        signals = strategy.MACD(tickers, start_date, end_date)\n",
    "        self.portfolio_value.loc[start_date, 'Total Value'] = self.cash\n",
    "\n",
    "        if trading_strategy == 'default':\n",
    "            for date in signals.index:\n",
    "                # deal with signals indicating sell\n",
    "                sells = signals.loc[date] == -1\n",
    "                for ticker in sells[sells].index:\n",
    "                    if ticker in self.portfolio and self.portfolio[ticker] > 0:\n",
    "                        quantity = self.portfolio[ticker]\n",
    "                        price = price_data.loc[date, ticker]\n",
    "                        self.portfolio[ticker] -= quantity\n",
    "                        self.cash += price * quantity\n",
    "                        self.record_transaction(date, ticker, 'SELL', price,\n",
    "                                                quantity)\n",
    "\n",
    "                # deal with signals indicating buy\n",
    "                buys = signals.loc[date] == 1\n",
    "                if buys.any():\n",
    "                    buy_tickers = buys[buys].index\n",
    "                    for ticker in buy_tickers:\n",
    "                        max_investment = min(self.initial_cash * 0.1,\n",
    "                                             self.cash)\n",
    "                        price = price_data.loc[date, ticker]\n",
    "                        if max_investment == np.nan or price == np.nan:\n",
    "                            print('None value in data:')\n",
    "                            print('Ticker:', ticker)\n",
    "                            print('Date:', date)\n",
    "                            print('price:', price)\n",
    "                            print('Cash:', self.cash)\n",
    "                            print('skip processing')\n",
    "                            continue\n",
    "                        quantity = int(max_investment // price // 100 * 100)\n",
    "                        if quantity > 0 and self.cash >= price * quantity:\n",
    "                            self.portfolio[ticker] = self.portfolio.get(\n",
    "                                ticker, 0) + quantity\n",
    "                            self.cash -= price * quantity\n",
    "                            self.record_transaction(date, ticker, 'BUY', price,\n",
    "                                                    quantity)\n",
    "\n",
    "                # update portfolio value\n",
    "                total_value = self.cash + sum(\n",
    "                    self.portfolio[ticker] * price_data.loc[date, ticker]\n",
    "                    for ticker in self.portfolio)\n",
    "                self.portfolio_value.loc[date, 'Total Value'] = total_value\n",
    "\n",
    "        return self.portfolio_value, self.transaction_log\n",
    "\n",
    "    def record_transaction(self, date, ticker, action, price, quantity):\n",
    "        # record the transactions in the DataFrame\n",
    "        self.transaction_log = self.transaction_log.append(\n",
    "            {\n",
    "                'Date': date,\n",
    "                'Ticker': ticker,\n",
    "                'Action': action,\n",
    "                'Price': price,\n",
    "                'Quantity': quantity\n",
    "            },\n",
    "            ignore_index=True)"
   ]
  },
  {
   "cell_type": "code",
   "execution_count": 5,
   "id": "b453063d",
   "metadata": {},
   "outputs": [
    {
     "name": "stdout",
     "output_type": "stream",
     "text": [
      "                        Total Value\n",
      "2024-01-01                  1000000\n",
      "2024-01-02 00:00:00         1000000\n",
      "2024-01-03 00:00:00       1000000.0\n",
      "2024-01-04 00:00:00   998229.000854\n",
      "2024-01-05 00:00:00   998229.000854\n",
      "...                             ...\n",
      "2024-04-19 00:00:00  1000377.931213\n",
      "2024-04-22 00:00:00  1000377.931213\n",
      "2024-04-23 00:00:00  1000377.931213\n",
      "2024-04-24 00:00:00  1000377.931213\n",
      "2024-04-25 00:00:00  1000377.931213\n",
      "\n",
      "[81 rows x 1 columns]\n",
      "         Date Ticker Action       Price Quantity\n",
      "0  2024-01-03  GOOGL    BUY  138.919998      700\n",
      "1  2024-01-04  GOOGL   SELL  136.389999      700\n",
      "2  2024-01-09  GOOGL    BUY  140.949997      700\n",
      "3  2024-01-10   AAPL    BUY  185.952713      500\n",
      "4  2024-01-17   AAPL   SELL  182.447189      500\n",
      "5  2024-01-18   AAPL    BUY  188.389618      500\n",
      "6  2024-01-31   AAPL   SELL  184.164993      500\n",
      "7  2024-02-01  GOOGL   SELL  141.160004      700\n",
      "8  2024-03-13  GOOGL    BUY  139.789993      700\n",
      "9  2024-03-18   AAPL    BUY  173.720001      500\n",
      "10 2024-04-16  GOOGL   SELL  154.399994      700\n",
      "11 2024-04-19   AAPL   SELL  165.000000      500\n",
      "12 2024-04-25   AAPL    BUY  169.889999      500\n"
     ]
    }
   ],
   "source": [
    "if __name__ == '__main__':\n",
    "    dm = DataManager()\n",
    "    backtester = Backtester(dm)\n",
    "    portfolio_value, transactions = backtester.run_backtest(['AAPL', 'GOOGL'],\n",
    "                                                            '2024-01-01',\n",
    "                                                            '2024-04-26')\n",
    "    print(portfolio_value)\n",
    "    print(transactions)"
   ]
  },
  {
   "cell_type": "code",
   "execution_count": 6,
   "id": "e102c967",
   "metadata": {},
   "outputs": [],
   "source": [
    "class PerformanceAnalyzer:\n",
    "    def __init__(self, portfolio_values, benchmark_ticker=\"^GSPC\"):\n",
    "        self.portfolio_values = portfolio_values\n",
    "        self.returns = self.calculate_returns()\n",
    "        self.benchmark_returns = self.get_benchmark_returns(benchmark_ticker)\n",
    "        self.risk_free_rate = self.get_risk_free_rate() / 252  # get daily risk free rate\n",
    "        self.excess_returns = self.returns - self.risk_free_rate  # get excess return\n",
    "\n",
    "    def calculate_returns(self):\n",
    "        \"\"\"calculate daily retrun\"\"\"\n",
    "        return self.portfolio_values.pct_change().fillna(0)\n",
    "\n",
    "    def get_risk_free_rate(self):\n",
    "        \"\"\"get risk free rate using yfinance (^IRX is the 1-month T-bill rate)\"\"\"\n",
    "        ticker = \"^IRX\"\n",
    "        bond = yf.Ticker(ticker)\n",
    "        hist = bond.history(period=\"1d\")  # get the most recent data\n",
    "        last_close = hist['Close'].iloc[-1]\n",
    "        return last_close / 100  \n",
    "\n",
    "    def get_benchmark_returns(self, ticker, start_date=None, end_date=None):\n",
    "        \"\"\"get benchmark returns\"\"\"\n",
    "        if start_date is None:\n",
    "            start_date = self.portfolio_values.index[0]\n",
    "        if end_date is None:\n",
    "            end_date = self.portfolio_values.index[-1]\n",
    "        index = yf.download(ticker, start=start_date, end=end_date)\n",
    "        return index['Adj Close'].pct_change().fillna(0)\n",
    "\n",
    "    def annualized_return(self):\n",
    "        \"\"\"calculate annualized returns\"\"\"\n",
    "        cumulative_return = self.portfolio_values.iloc[\n",
    "            -1] / self.portfolio_values.iloc[0] - 1\n",
    "        num_years = len(self.portfolio_values) / 252\n",
    "        return (1 + cumulative_return)**(1 / num_years) - 1\n",
    "\n",
    "    def sharpe_ratio(self):\n",
    "        \"\"\"calculate the annual Sharpe ration\"\"\"\n",
    "        mean_return = np.mean(self.excess_returns)\n",
    "        std_return = np.std(self.excess_returns)\n",
    "        return (mean_return / std_return) * np.sqrt(252)\n",
    "\n",
    "    def max_drawdown(self):\n",
    "        \"\"\"calculate the maximum drawdown\"\"\"\n",
    "        cumulative_max = self.portfolio_values.cummax()\n",
    "        drawdown = (self.portfolio_values - cumulative_max) / cumulative_max\n",
    "        return drawdown.min()"
   ]
  },
  {
   "cell_type": "code",
   "execution_count": 7,
   "id": "f34ce3bb",
   "metadata": {},
   "outputs": [
    {
     "name": "stderr",
     "output_type": "stream",
     "text": [
      "\r",
      "[*********************100%%**********************]  1 of 1 completed"
     ]
    },
    {
     "name": "stdout",
     "output_type": "stream",
     "text": [
      "Annualized Return: Total Value    0.001176\n",
      "dtype: object\n",
      "Sharpe Ratio: Total Value   -1.693099\n",
      "dtype: float64\n",
      "Max Drawdown: Total Value   -0.013028\n",
      "dtype: object\n"
     ]
    },
    {
     "name": "stderr",
     "output_type": "stream",
     "text": [
      "\n"
     ]
    }
   ],
   "source": [
    "if __name__ == '__main__':\n",
    "    analyzer = PerformanceAnalyzer(portfolio_value)\n",
    "    print(\"Annualized Return:\", analyzer.annualized_return())\n",
    "    print(\"Sharpe Ratio:\", analyzer.sharpe_ratio())\n",
    "    print(\"Max Drawdown:\", analyzer.max_drawdown())"
   ]
  },
  {
   "cell_type": "code",
   "execution_count": 8,
   "id": "6d13fcbe",
   "metadata": {},
   "outputs": [],
   "source": [
    "class ResultSaver:\n",
    "    def __init__(self, transactions, portfolio_values):\n",
    "        self.transactions = transactions\n",
    "        self.portfolio_values = portfolio_values\n",
    "\n",
    "    def save_to_csv(self):\n",
    "        \"\"\"save recorded transactions and portfolio values in a csv file\"\"\"\n",
    "        self.transactions.to_csv('results/transactions.csv', index=True)\n",
    "        self.portfolio_values.to_csv('results/portfolio_values.csv',\n",
    "                                     index=True)\n",
    "\n",
    "    def get_benchmark_data(self, ticker=\"^GSPC\"):\n",
    "        \"\"\"get market benchmark data, for example S&P 500\"\"\"\n",
    "        start_date = self.transactions[\"Date\"].iloc[0]\n",
    "        end_date = self.transactions[\"Date\"].iloc[-1]\n",
    "        data = yf.download(ticker, start=start_date, end=end_date)\n",
    "        if data == None:\n",
    "            print('cannot get benchmark data of ticker:', ticker)\n",
    "        return data['Adj Close']\n",
    "\n",
    "    def plot_and_save_pdf(self):\n",
    "        \"\"\"plot the comparison between portfolio values and market benchmark, save the graph in a pdf file\"\"\"\n",
    "        benchmark_values = self.get_benchmark_data(ticker=\"^GSPC\")\n",
    "        self.portfolio_values.index = pd.to_datetime(\n",
    "            self.portfolio_values.index)\n",
    "        benchmark_returns = benchmark_values.pct_change().fillna(0)\n",
    "        portfolio_returns = self.portfolio_values.pct_change().fillna(0)\n",
    "        cumulative_portfolio_returns = (1 + portfolio_returns).cumprod() - 1\n",
    "        cumulative_benchmark_returns = (1 + benchmark_returns).cumprod() - 1\n",
    "        with PdfPages('results/comparison_chart.pdf') as pdf:\n",
    "            plt.figure(figsize=(10, 6))\n",
    "            plt.plot(cumulative_portfolio_returns.index,\n",
    "                     cumulative_portfolio_returns,\n",
    "                     label='Portfolio Value')\n",
    "            plt.plot(cumulative_benchmark_returns.index,\n",
    "                     cumulative_benchmark_returns,\n",
    "                     label='Market Benchmark')\n",
    "            plt.title('Portfolio Value vs Market Benchmark')\n",
    "            plt.xlabel('Date')\n",
    "            plt.ylabel('Return')\n",
    "            plt.legend()\n",
    "            pdf.savefig()\n",
    "            plt.close()"
   ]
  },
  {
   "cell_type": "code",
   "execution_count": 9,
   "id": "8f51d8b8",
   "metadata": {
    "scrolled": true
   },
   "outputs": [
    {
     "name": "stderr",
     "output_type": "stream",
     "text": [
      "[*********************100%%**********************]  1 of 1 completed\n"
     ]
    }
   ],
   "source": [
    "if __name__ == '__main__':\n",
    "    saver = ResultSaver(transactions, portfolio_value)\n",
    "    saver.save_to_csv()\n",
    "    saver.plot_and_save_pdf()"
   ]
  },
  {
   "cell_type": "code",
   "execution_count": null,
   "id": "d0577e9b",
   "metadata": {},
   "outputs": [],
   "source": []
  }
 ],
 "metadata": {
  "kernelspec": {
   "display_name": "Python 3 (ipykernel)",
   "language": "python",
   "name": "python3"
  },
  "language_info": {
   "codemirror_mode": {
    "name": "ipython",
    "version": 3
   },
   "file_extension": ".py",
   "mimetype": "text/x-python",
   "name": "python",
   "nbconvert_exporter": "python",
   "pygments_lexer": "ipython3",
   "version": "3.9.13"
  },
  "varInspector": {
   "cols": {
    "lenName": 16,
    "lenType": 16,
    "lenVar": 40
   },
   "kernels_config": {
    "python": {
     "delete_cmd_postfix": "",
     "delete_cmd_prefix": "del ",
     "library": "var_list.py",
     "varRefreshCmd": "print(var_dic_list())"
    },
    "r": {
     "delete_cmd_postfix": ") ",
     "delete_cmd_prefix": "rm(",
     "library": "var_list.r",
     "varRefreshCmd": "cat(var_dic_list()) "
    }
   },
   "types_to_exclude": [
    "module",
    "function",
    "builtin_function_or_method",
    "instance",
    "_Feature"
   ],
   "window_display": false
  }
 },
 "nbformat": 4,
 "nbformat_minor": 5
}
