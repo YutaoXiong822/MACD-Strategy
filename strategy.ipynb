{
 "cells": [
  {
   "cell_type": "code",
   "execution_count": 1,
   "id": "d5d3c792",
   "metadata": {},
   "outputs": [],
   "source": [
    "import pandas as pd\n",
    "import numpy as np\n",
    "import matplotlib.pyplot as plt\n",
    "import yfinance as yf\n",
    "import datetime\n",
    "import warnings\n",
    "\n",
    "warnings.filterwarnings(\"ignore\")"
   ]
  },
  {
   "cell_type": "code",
   "execution_count": 2,
   "id": "e8ec9f9c",
   "metadata": {},
   "outputs": [],
   "source": [
    "# This file is for the strategy\n",
    "# strategy：inputs are the ticker symbols and the start day, the outputs are the positions of the stocks for each date \n",
    "# plot：inputs are ticker symbols and the dates, outputs are the graph of the close and the performance of the strategy \n",
    "# test：the input is the strategy, the output is its performance\n",
    "# save：save the result in a pdf file"
   ]
  },
  {
   "cell_type": "code",
   "execution_count": 3,
   "id": "403544f4",
   "metadata": {
    "code_folding": []
   },
   "outputs": [],
   "source": [
    "# Build the MACD strategy:\n",
    "\n",
    "def calculate_macd(data, short_period=12, long_period=26, signal_period=9):\n",
    "    \n",
    "    data['EMA_short'] = data['Adj Close'].ewm(span=short_period,\n",
    "                                          adjust=False).mean()\n",
    "    data['EMA_long'] = data['Adj Close'].ewm(span=long_period, adjust=False).mean()\n",
    "    data['MACD'] = data['EMA_short'] - data['EMA_long']\n",
    "    data['Signal_Line'] = data['MACD'].ewm(span=signal_period,\n",
    "                                           adjust=False).mean()\n",
    "    return data\n",
    "\n",
    "\n",
    "def generate_signals(data):\n",
    "    data['Signal'] = 0\n",
    "    data['Signal'] = np.where(data['MACD'] > data['Signal_Line'], 1, 0)\n",
    "    data['Position'] = data['Signal'].diff()\n",
    "    return data['Position']"
   ]
  },
  {
   "cell_type": "code",
   "execution_count": 4,
   "id": "1e1aebc6",
   "metadata": {},
   "outputs": [],
   "source": [
    "def MACD(stocks, start_date, end_date):\n",
    "    data = yf.download(stocks, start=start_date, end = end_date, progress = False)\n",
    "    close = data['Adj Close']\n",
    "    macd_result = pd.DataFrame(0, index=close.index, columns=close.columns)\n",
    "    for stock in stocks:\n",
    "        data = yf.download(stock, start=start_date, end = end_date, progress = False)\n",
    "        data = calculate_macd(data)\n",
    "        signal = generate_signals(data)\n",
    "        macd_result[stock] = signal\n",
    "    \n",
    "    return macd_result"
   ]
  },
  {
   "cell_type": "code",
   "execution_count": 5,
   "id": "8ca06694",
   "metadata": {},
   "outputs": [
    {
     "name": "stdout",
     "output_type": "stream",
     "text": [
      "Ticker      AAPL  AMZN  AXP   BA  CAT  CSCO  CVX  DIS   KO  MMM\n",
      "Date                                                           \n",
      "2023-01-03   NaN   NaN  NaN  NaN  NaN   NaN  NaN  NaN  NaN  NaN\n",
      "2023-01-04   1.0   0.0  1.0  1.0  1.0   0.0  0.0  1.0  0.0  1.0\n",
      "2023-01-05   0.0   0.0  0.0  0.0  0.0   0.0  1.0  0.0  0.0  0.0\n",
      "2023-01-06   0.0   0.0  0.0  0.0  0.0   1.0  0.0  0.0  1.0  0.0\n",
      "2023-01-09   0.0   1.0  0.0  0.0  0.0   0.0  0.0  0.0 -1.0  0.0\n",
      "...          ...   ...  ...  ...  ...   ...  ...  ...  ...  ...\n",
      "2024-04-19  -1.0   0.0  0.0  0.0  0.0   0.0  0.0  0.0  0.0  0.0\n",
      "2024-04-22   0.0   0.0  1.0  0.0  0.0   0.0  0.0  0.0  1.0  0.0\n",
      "2024-04-23   0.0   0.0  0.0  0.0  0.0   0.0  0.0  0.0  0.0  0.0\n",
      "2024-04-24   0.0   0.0  0.0  0.0  0.0   0.0  1.0  0.0  0.0  0.0\n",
      "2024-04-25   1.0   0.0  0.0  0.0  0.0   0.0  0.0  0.0  0.0  0.0\n",
      "\n",
      "[330 rows x 10 columns]\n"
     ]
    }
   ],
   "source": [
    "# Test\n",
    "if __name__ == '__main__':\n",
    "    stocks = [\n",
    "        'MMM', 'AXP', 'AMZN', 'AAPL', 'BA', 'CAT', 'CVX', 'CSCO', 'KO', 'DIS'\n",
    "    ]\n",
    "\n",
    "    start_date = '2023-01-01'\n",
    "    end_date = '2024-04-26'\n",
    "\n",
    "    print(MACD(stocks, start_date, end_date))"
   ]
  }
 ],
 "metadata": {
  "kernelspec": {
   "display_name": "Python 3 (ipykernel)",
   "language": "python",
   "name": "python3"
  },
  "language_info": {
   "codemirror_mode": {
    "name": "ipython",
    "version": 3
   },
   "file_extension": ".py",
   "mimetype": "text/x-python",
   "name": "python",
   "nbconvert_exporter": "python",
   "pygments_lexer": "ipython3",
   "version": "3.9.13"
  },
  "varInspector": {
   "cols": {
    "lenName": 16,
    "lenType": 16,
    "lenVar": 40
   },
   "kernels_config": {
    "python": {
     "delete_cmd_postfix": "",
     "delete_cmd_prefix": "del ",
     "library": "var_list.py",
     "varRefreshCmd": "print(var_dic_list())"
    },
    "r": {
     "delete_cmd_postfix": ") ",
     "delete_cmd_prefix": "rm(",
     "library": "var_list.r",
     "varRefreshCmd": "cat(var_dic_list()) "
    }
   },
   "types_to_exclude": [
    "module",
    "function",
    "builtin_function_or_method",
    "instance",
    "_Feature"
   ],
   "window_display": false
  }
 },
 "nbformat": 4,
 "nbformat_minor": 5
}
